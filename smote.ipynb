{
  "nbformat": 4,
  "nbformat_minor": 0,
  "metadata": {
    "colab": {
      "provenance": [],
      "authorship_tag": "ABX9TyOz/cTiRnjnkzr3jAUL/SNn",
      "include_colab_link": true
    },
    "kernelspec": {
      "name": "python3",
      "display_name": "Python 3"
    },
    "language_info": {
      "name": "python"
    }
  },
  "cells": [
    {
      "cell_type": "markdown",
      "metadata": {
        "id": "view-in-github",
        "colab_type": "text"
      },
      "source": [
        "<a href=\"https://colab.research.google.com/github/ddas2707/lmt_ads_codes/blob/main/smote.ipynb\" target=\"_parent\"><img src=\"https://colab.research.google.com/assets/colab-badge.svg\" alt=\"Open In Colab\"/></a>"
      ]
    },
    {
      "cell_type": "code",
      "execution_count": 1,
      "metadata": {
        "id": "H9BSMC6VEsT5"
      },
      "outputs": [],
      "source": [
        "import pandas as pd\n",
        "from collections import Counter\n",
        "from sklearn.model_selection import train_test_split\n",
        "from sklearn.linear_model import LogisticRegression\n",
        "from sklearn.metrics import accuracy_score, confusion_matrix, classification_report\n",
        "from imblearn.over_sampling import SMOTE"
      ]
    },
    {
      "cell_type": "code",
      "source": [
        "data = pd.read_excel('exp5_Admission_St.xlsx')"
      ],
      "metadata": {
        "id": "CQuwA0RpE21q"
      },
      "execution_count": 2,
      "outputs": []
    },
    {
      "cell_type": "code",
      "source": [
        "X = data.drop('Admit', axis=1)\n",
        "y = data['Admit']"
      ],
      "metadata": {
        "id": "FnXOoGBRE23-"
      },
      "execution_count": 3,
      "outputs": []
    },
    {
      "cell_type": "code",
      "source": [
        "X_train, X_test, y_train, y_test = train_test_split(X, y, test_size=0.3, random_state=42, stratify=y)"
      ],
      "metadata": {
        "id": "an8ywctOFEqS"
      },
      "execution_count": 4,
      "outputs": []
    },
    {
      "cell_type": "code",
      "source": [
        "print(\"Before SMOTE - Train Distribution:\", Counter(y_train))"
      ],
      "metadata": {
        "colab": {
          "base_uri": "https://localhost:8080/"
        },
        "id": "QzfneVonFEts",
        "outputId": "92fa8baa-1866-4408-aa89-caae7f50734f"
      },
      "execution_count": 5,
      "outputs": [
        {
          "output_type": "stream",
          "name": "stdout",
          "text": [
            "Before SMOTE - Train Distribution: Counter({0: 191, 1: 89})\n"
          ]
        }
      ]
    },
    {
      "cell_type": "code",
      "source": [
        "model_before = LogisticRegression()\n",
        "model_before.fit(X_train, y_train)\n",
        "y_pred_before = model_before.predict(X_test)"
      ],
      "metadata": {
        "id": "JeRxKdRcFEwg"
      },
      "execution_count": 6,
      "outputs": []
    },
    {
      "cell_type": "code",
      "source": [
        "print(\"\\nBefore SMOTE - Accuracy:\", accuracy_score(y_test, y_pred_before))\n",
        "print(\"Confusion Matrix:\\n\", confusion_matrix(y_test, y_pred_before))\n",
        "print(\"Classification Report:\\n\", classification_report(y_test, y_pred_before))"
      ],
      "metadata": {
        "colab": {
          "base_uri": "https://localhost:8080/"
        },
        "id": "ycpMKUyeFEyl",
        "outputId": "6f7a4ec6-140d-4dfa-c1ca-c2b3dd98870f"
      },
      "execution_count": 7,
      "outputs": [
        {
          "output_type": "stream",
          "name": "stdout",
          "text": [
            "\n",
            "Before SMOTE - Accuracy: 0.6916666666666667\n",
            "Confusion Matrix:\n",
            " [[76  6]\n",
            " [31  7]]\n",
            "Classification Report:\n",
            "               precision    recall  f1-score   support\n",
            "\n",
            "           0       0.71      0.93      0.80        82\n",
            "           1       0.54      0.18      0.27        38\n",
            "\n",
            "    accuracy                           0.69       120\n",
            "   macro avg       0.62      0.56      0.54       120\n",
            "weighted avg       0.66      0.69      0.64       120\n",
            "\n"
          ]
        }
      ]
    },
    {
      "cell_type": "code",
      "source": [
        "smote = SMOTE(random_state=42)\n",
        "X_resampled, y_resampled = smote.fit_resample(X_train, y_train)"
      ],
      "metadata": {
        "id": "uDECyKcZFE0K"
      },
      "execution_count": 8,
      "outputs": []
    },
    {
      "cell_type": "code",
      "source": [
        "print(\"\\nAfter SMOTE - Train Distribution:\", Counter(y_resampled))"
      ],
      "metadata": {
        "colab": {
          "base_uri": "https://localhost:8080/"
        },
        "id": "jjkKFvErFTyZ",
        "outputId": "dd927ceb-03f9-4081-ca23-73f772a09397"
      },
      "execution_count": 9,
      "outputs": [
        {
          "output_type": "stream",
          "name": "stdout",
          "text": [
            "\n",
            "After SMOTE - Train Distribution: Counter({0: 191, 1: 191})\n"
          ]
        }
      ]
    },
    {
      "cell_type": "code",
      "source": [
        "model_after = LogisticRegression()\n",
        "model_after.fit(X_resampled, y_resampled)\n",
        "y_pred_after = model_after.predict(X_test)"
      ],
      "metadata": {
        "id": "8ypNTmvBFT0j"
      },
      "execution_count": 10,
      "outputs": []
    },
    {
      "cell_type": "code",
      "source": [
        "print(\"\\nAfter SMOTE - Accuracy:\", accuracy_score(y_test, y_pred_after))\n",
        "print(\"Confusion Matrix:\\n\", confusion_matrix(y_test, y_pred_after))\n",
        "print(\"Classification Report:\\n\", classification_report(y_test, y_pred_after))"
      ],
      "metadata": {
        "colab": {
          "base_uri": "https://localhost:8080/"
        },
        "id": "_A56ibyuFYcJ",
        "outputId": "c235f546-0acf-4137-85df-11c5d6807708"
      },
      "execution_count": 11,
      "outputs": [
        {
          "output_type": "stream",
          "name": "stdout",
          "text": [
            "\n",
            "After SMOTE - Accuracy: 0.6583333333333333\n",
            "Confusion Matrix:\n",
            " [[57 25]\n",
            " [16 22]]\n",
            "Classification Report:\n",
            "               precision    recall  f1-score   support\n",
            "\n",
            "           0       0.78      0.70      0.74        82\n",
            "           1       0.47      0.58      0.52        38\n",
            "\n",
            "    accuracy                           0.66       120\n",
            "   macro avg       0.62      0.64      0.63       120\n",
            "weighted avg       0.68      0.66      0.67       120\n",
            "\n"
          ]
        }
      ]
    }
  ]
}